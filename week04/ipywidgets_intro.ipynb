{
 "cells": [
  {
   "cell_type": "code",
   "execution_count": 1,
   "id": "subjective-beauty",
   "metadata": {},
   "outputs": [],
   "source": [
    "import traitlets"
   ]
  },
  {
   "cell_type": "code",
   "execution_count": 2,
   "id": "radical-bedroom",
   "metadata": {},
   "outputs": [],
   "source": [
    "class MusicAlbum:\n",
    "    pass\n",
    "\n",
    "simple_album = MusicAlbum()\n",
    "simple_album.year_released = 2010\n",
    "simple_album.artist = \"Taylor Swift\"\n",
    "simple_album.name = \"Speak Now\""
   ]
  },
  {
   "cell_type": "code",
   "execution_count": 5,
   "id": "unable-attempt",
   "metadata": {},
   "outputs": [],
   "source": [
    "simple_album.year_released = \"fourteen years ago\""
   ]
  },
  {
   "cell_type": "code",
   "execution_count": 6,
   "id": "brutal-concept",
   "metadata": {},
   "outputs": [
    {
     "data": {
      "text/plain": [
       "'fourteen years ago'"
      ]
     },
     "execution_count": 6,
     "metadata": {},
     "output_type": "execute_result"
    }
   ],
   "source": [
    "simple_album.year_released"
   ]
  },
  {
   "cell_type": "code",
   "execution_count": 7,
   "id": "modern-bandwidth",
   "metadata": {},
   "outputs": [],
   "source": [
    "class MusicAlbum(traitlets.HasTraits):\n",
    "    year_released = traitlets.Int()\n",
    "    artist = traitlets.Unicode()\n",
    "    name = traitlets.Unicode()"
   ]
  },
  {
   "cell_type": "code",
   "execution_count": 16,
   "id": "becoming-topic",
   "metadata": {},
   "outputs": [],
   "source": [
    "speak_now = MusicAlbum(artist = \"Taylor Swift\", name = \"Speak Now\", year_released = 2010)"
   ]
  },
  {
   "cell_type": "code",
   "execution_count": 17,
   "id": "trained-expression",
   "metadata": {},
   "outputs": [
    {
     "data": {
      "text/plain": [
       "'Taylor Swift'"
      ]
     },
     "execution_count": 17,
     "metadata": {},
     "output_type": "execute_result"
    }
   ],
   "source": [
    "speak_now.artist"
   ]
  },
  {
   "cell_type": "code",
   "execution_count": 18,
   "id": "extraordinary-substance",
   "metadata": {},
   "outputs": [
    {
     "ename": "TraitError",
     "evalue": "The 'year_released' trait of a MusicAlbum instance expected an int, not the str 'fourteen years ago'.",
     "output_type": "error",
     "traceback": [
      "\u001b[0;31m---------------------------------------------------------------------------\u001b[0m",
      "\u001b[0;31mTraitError\u001b[0m                                Traceback (most recent call last)",
      "\u001b[0;32m<ipython-input-18-dbdeec1e2430>\u001b[0m in \u001b[0;36m<module>\u001b[0;34m\u001b[0m\n\u001b[0;32m----> 1\u001b[0;31m \u001b[0mspeak_now\u001b[0m\u001b[0;34m.\u001b[0m\u001b[0myear_released\u001b[0m \u001b[0;34m=\u001b[0m \u001b[0;34m\"fourteen years ago\"\u001b[0m\u001b[0;34m\u001b[0m\u001b[0;34m\u001b[0m\u001b[0m\n\u001b[0m",
      "\u001b[0;32m/opt/conda/lib/python3.8/site-packages/traitlets/traitlets.py\u001b[0m in \u001b[0;36m__set__\u001b[0;34m(self, obj, value)\u001b[0m\n\u001b[1;32m    602\u001b[0m             \u001b[0;32mraise\u001b[0m \u001b[0mTraitError\u001b[0m\u001b[0;34m(\u001b[0m\u001b[0;34m'The \"%s\" trait is read-only.'\u001b[0m \u001b[0;34m%\u001b[0m \u001b[0mself\u001b[0m\u001b[0;34m.\u001b[0m\u001b[0mname\u001b[0m\u001b[0;34m)\u001b[0m\u001b[0;34m\u001b[0m\u001b[0;34m\u001b[0m\u001b[0m\n\u001b[1;32m    603\u001b[0m         \u001b[0;32melse\u001b[0m\u001b[0;34m:\u001b[0m\u001b[0;34m\u001b[0m\u001b[0;34m\u001b[0m\u001b[0m\n\u001b[0;32m--> 604\u001b[0;31m             \u001b[0mself\u001b[0m\u001b[0;34m.\u001b[0m\u001b[0mset\u001b[0m\u001b[0;34m(\u001b[0m\u001b[0mobj\u001b[0m\u001b[0;34m,\u001b[0m \u001b[0mvalue\u001b[0m\u001b[0;34m)\u001b[0m\u001b[0;34m\u001b[0m\u001b[0;34m\u001b[0m\u001b[0m\n\u001b[0m\u001b[1;32m    605\u001b[0m \u001b[0;34m\u001b[0m\u001b[0m\n\u001b[1;32m    606\u001b[0m     \u001b[0;32mdef\u001b[0m \u001b[0m_validate\u001b[0m\u001b[0;34m(\u001b[0m\u001b[0mself\u001b[0m\u001b[0;34m,\u001b[0m \u001b[0mobj\u001b[0m\u001b[0;34m,\u001b[0m \u001b[0mvalue\u001b[0m\u001b[0;34m)\u001b[0m\u001b[0;34m:\u001b[0m\u001b[0;34m\u001b[0m\u001b[0;34m\u001b[0m\u001b[0m\n",
      "\u001b[0;32m/opt/conda/lib/python3.8/site-packages/traitlets/traitlets.py\u001b[0m in \u001b[0;36mset\u001b[0;34m(self, obj, value)\u001b[0m\n\u001b[1;32m    576\u001b[0m \u001b[0;34m\u001b[0m\u001b[0m\n\u001b[1;32m    577\u001b[0m     \u001b[0;32mdef\u001b[0m \u001b[0mset\u001b[0m\u001b[0;34m(\u001b[0m\u001b[0mself\u001b[0m\u001b[0;34m,\u001b[0m \u001b[0mobj\u001b[0m\u001b[0;34m,\u001b[0m \u001b[0mvalue\u001b[0m\u001b[0;34m)\u001b[0m\u001b[0;34m:\u001b[0m\u001b[0;34m\u001b[0m\u001b[0;34m\u001b[0m\u001b[0m\n\u001b[0;32m--> 578\u001b[0;31m         \u001b[0mnew_value\u001b[0m \u001b[0;34m=\u001b[0m \u001b[0mself\u001b[0m\u001b[0;34m.\u001b[0m\u001b[0m_validate\u001b[0m\u001b[0;34m(\u001b[0m\u001b[0mobj\u001b[0m\u001b[0;34m,\u001b[0m \u001b[0mvalue\u001b[0m\u001b[0;34m)\u001b[0m\u001b[0;34m\u001b[0m\u001b[0;34m\u001b[0m\u001b[0m\n\u001b[0m\u001b[1;32m    579\u001b[0m         \u001b[0;32mtry\u001b[0m\u001b[0;34m:\u001b[0m\u001b[0;34m\u001b[0m\u001b[0;34m\u001b[0m\u001b[0m\n\u001b[1;32m    580\u001b[0m             \u001b[0mold_value\u001b[0m \u001b[0;34m=\u001b[0m \u001b[0mobj\u001b[0m\u001b[0;34m.\u001b[0m\u001b[0m_trait_values\u001b[0m\u001b[0;34m[\u001b[0m\u001b[0mself\u001b[0m\u001b[0;34m.\u001b[0m\u001b[0mname\u001b[0m\u001b[0;34m]\u001b[0m\u001b[0;34m\u001b[0m\u001b[0;34m\u001b[0m\u001b[0m\n",
      "\u001b[0;32m/opt/conda/lib/python3.8/site-packages/traitlets/traitlets.py\u001b[0m in \u001b[0;36m_validate\u001b[0;34m(self, obj, value)\u001b[0m\n\u001b[1;32m    608\u001b[0m             \u001b[0;32mreturn\u001b[0m \u001b[0mvalue\u001b[0m\u001b[0;34m\u001b[0m\u001b[0;34m\u001b[0m\u001b[0m\n\u001b[1;32m    609\u001b[0m         \u001b[0;32mif\u001b[0m \u001b[0mhasattr\u001b[0m\u001b[0;34m(\u001b[0m\u001b[0mself\u001b[0m\u001b[0;34m,\u001b[0m \u001b[0;34m'validate'\u001b[0m\u001b[0;34m)\u001b[0m\u001b[0;34m:\u001b[0m\u001b[0;34m\u001b[0m\u001b[0;34m\u001b[0m\u001b[0m\n\u001b[0;32m--> 610\u001b[0;31m             \u001b[0mvalue\u001b[0m \u001b[0;34m=\u001b[0m \u001b[0mself\u001b[0m\u001b[0;34m.\u001b[0m\u001b[0mvalidate\u001b[0m\u001b[0;34m(\u001b[0m\u001b[0mobj\u001b[0m\u001b[0;34m,\u001b[0m \u001b[0mvalue\u001b[0m\u001b[0;34m)\u001b[0m\u001b[0;34m\u001b[0m\u001b[0;34m\u001b[0m\u001b[0m\n\u001b[0m\u001b[1;32m    611\u001b[0m         \u001b[0;32mif\u001b[0m \u001b[0mobj\u001b[0m\u001b[0;34m.\u001b[0m\u001b[0m_cross_validation_lock\u001b[0m \u001b[0;32mis\u001b[0m \u001b[0;32mFalse\u001b[0m\u001b[0;34m:\u001b[0m\u001b[0;34m\u001b[0m\u001b[0;34m\u001b[0m\u001b[0m\n\u001b[1;32m    612\u001b[0m             \u001b[0mvalue\u001b[0m \u001b[0;34m=\u001b[0m \u001b[0mself\u001b[0m\u001b[0;34m.\u001b[0m\u001b[0m_cross_validate\u001b[0m\u001b[0;34m(\u001b[0m\u001b[0mobj\u001b[0m\u001b[0;34m,\u001b[0m \u001b[0mvalue\u001b[0m\u001b[0;34m)\u001b[0m\u001b[0;34m\u001b[0m\u001b[0;34m\u001b[0m\u001b[0m\n",
      "\u001b[0;32m/opt/conda/lib/python3.8/site-packages/traitlets/traitlets.py\u001b[0m in \u001b[0;36mvalidate\u001b[0;34m(self, obj, value)\u001b[0m\n\u001b[1;32m   2038\u001b[0m     \u001b[0;32mdef\u001b[0m \u001b[0mvalidate\u001b[0m\u001b[0;34m(\u001b[0m\u001b[0mself\u001b[0m\u001b[0;34m,\u001b[0m \u001b[0mobj\u001b[0m\u001b[0;34m,\u001b[0m \u001b[0mvalue\u001b[0m\u001b[0;34m)\u001b[0m\u001b[0;34m:\u001b[0m\u001b[0;34m\u001b[0m\u001b[0;34m\u001b[0m\u001b[0m\n\u001b[1;32m   2039\u001b[0m         \u001b[0;32mif\u001b[0m \u001b[0;32mnot\u001b[0m \u001b[0misinstance\u001b[0m\u001b[0;34m(\u001b[0m\u001b[0mvalue\u001b[0m\u001b[0;34m,\u001b[0m \u001b[0mint\u001b[0m\u001b[0;34m)\u001b[0m\u001b[0;34m:\u001b[0m\u001b[0;34m\u001b[0m\u001b[0;34m\u001b[0m\u001b[0m\n\u001b[0;32m-> 2040\u001b[0;31m             \u001b[0mself\u001b[0m\u001b[0;34m.\u001b[0m\u001b[0merror\u001b[0m\u001b[0;34m(\u001b[0m\u001b[0mobj\u001b[0m\u001b[0;34m,\u001b[0m \u001b[0mvalue\u001b[0m\u001b[0;34m)\u001b[0m\u001b[0;34m\u001b[0m\u001b[0;34m\u001b[0m\u001b[0m\n\u001b[0m\u001b[1;32m   2041\u001b[0m         \u001b[0;32mreturn\u001b[0m \u001b[0m_validate_bounds\u001b[0m\u001b[0;34m(\u001b[0m\u001b[0mself\u001b[0m\u001b[0;34m,\u001b[0m \u001b[0mobj\u001b[0m\u001b[0;34m,\u001b[0m \u001b[0mvalue\u001b[0m\u001b[0;34m)\u001b[0m\u001b[0;34m\u001b[0m\u001b[0;34m\u001b[0m\u001b[0m\n\u001b[1;32m   2042\u001b[0m \u001b[0;34m\u001b[0m\u001b[0m\n",
      "\u001b[0;32m/opt/conda/lib/python3.8/site-packages/traitlets/traitlets.py\u001b[0m in \u001b[0;36merror\u001b[0;34m(self, obj, value, error, info)\u001b[0m\n\u001b[1;32m    688\u001b[0m                     e = \"The '%s' trait expected %s, not %s.\" % (\n\u001b[1;32m    689\u001b[0m                         self.name, self.info(), describe(\"the\", value))\n\u001b[0;32m--> 690\u001b[0;31m                 \u001b[0;32mraise\u001b[0m \u001b[0mTraitError\u001b[0m\u001b[0;34m(\u001b[0m\u001b[0me\u001b[0m\u001b[0;34m)\u001b[0m\u001b[0;34m\u001b[0m\u001b[0;34m\u001b[0m\u001b[0m\n\u001b[0m\u001b[1;32m    691\u001b[0m \u001b[0;34m\u001b[0m\u001b[0m\n\u001b[1;32m    692\u001b[0m     \u001b[0;32mdef\u001b[0m \u001b[0mget_metadata\u001b[0m\u001b[0;34m(\u001b[0m\u001b[0mself\u001b[0m\u001b[0;34m,\u001b[0m \u001b[0mkey\u001b[0m\u001b[0;34m,\u001b[0m \u001b[0mdefault\u001b[0m\u001b[0;34m=\u001b[0m\u001b[0;32mNone\u001b[0m\u001b[0;34m)\u001b[0m\u001b[0;34m:\u001b[0m\u001b[0;34m\u001b[0m\u001b[0;34m\u001b[0m\u001b[0m\n",
      "\u001b[0;31mTraitError\u001b[0m: The 'year_released' trait of a MusicAlbum instance expected an int, not the str 'fourteen years ago'."
     ]
    }
   ],
   "source": [
    "speak_now.year_released = \"fourteen years ago\""
   ]
  },
  {
   "cell_type": "code",
   "execution_count": 19,
   "id": "obvious-uzbekistan",
   "metadata": {},
   "outputs": [],
   "source": [
    "def show_change(change):\n",
    "    print(\"Changed {name} from {old} to {new}\".format(**change))\n",
    "speak_now.observe(show_change, [\"name\", \"year_released\", \"artist\"])"
   ]
  },
  {
   "cell_type": "code",
   "execution_count": 20,
   "id": "interior-pledge",
   "metadata": {},
   "outputs": [
    {
     "name": "stdout",
     "output_type": "stream",
     "text": [
      "Changed year_released from 2010 to 2011\n"
     ]
    }
   ],
   "source": [
    "speak_now.year_released = 2011"
   ]
  },
  {
   "cell_type": "code",
   "execution_count": 21,
   "id": "filled-broadcast",
   "metadata": {},
   "outputs": [
    {
     "name": "stdout",
     "output_type": "stream",
     "text": [
      "Changed year_released from 2011 to 2023\n",
      "Changed name from Speak Now to Speak Now (Taylor's Version)\n"
     ]
    }
   ],
   "source": [
    "speak_now.year_released = 2023\n",
    "speak_now.name = speak_now.name + \" (Taylor's Version)\""
   ]
  },
  {
   "cell_type": "code",
   "execution_count": 22,
   "id": "going-allowance",
   "metadata": {},
   "outputs": [
    {
     "data": {
      "text/plain": [
       "2023"
      ]
     },
     "execution_count": 22,
     "metadata": {},
     "output_type": "execute_result"
    }
   ],
   "source": [
    "speak_now.year_released"
   ]
  },
  {
   "cell_type": "code",
   "execution_count": 23,
   "id": "affected-member",
   "metadata": {},
   "outputs": [],
   "source": [
    "import random"
   ]
  },
  {
   "cell_type": "code",
   "execution_count": 43,
   "id": "necessary-istanbul",
   "metadata": {},
   "outputs": [],
   "source": [
    "class Student(traitlets.HasTraits):\n",
    "    name = traitlets.Unicode()\n",
    "    row_and_seat = traitlets.Tuple(\n",
    "                        traitlets.Unicode(),\n",
    "                        traitlets.Int()\n",
    "                    )\n",
    "    height = traitlets.Unicode(\"average\")\n",
    "    group_name = traitlets.Unicode()\n",
    "\n",
    "    @traitlets.default(\"row_and_seat\")\n",
    "    def random(self):\n",
    "        return (random.choice(\"ABCDEFG\"),\n",
    "                random.randint(1, 15))"
   ]
  },
  {
   "cell_type": "code",
   "execution_count": 44,
   "id": "guided-geology",
   "metadata": {},
   "outputs": [],
   "source": [
    "s1, s2, s3 = Student(), Student(), Student()"
   ]
  },
  {
   "cell_type": "code",
   "execution_count": 45,
   "id": "flush-composition",
   "metadata": {},
   "outputs": [
    {
     "data": {
      "text/plain": [
       "(('C', 1), ('D', 15), ('C', 14))"
      ]
     },
     "execution_count": 45,
     "metadata": {},
     "output_type": "execute_result"
    }
   ],
   "source": [
    "s1.row_and_seat, s2.row_and_seat, s3.row_and_seat"
   ]
  },
  {
   "cell_type": "code",
   "execution_count": 46,
   "id": "smoking-frank",
   "metadata": {},
   "outputs": [
    {
     "data": {
      "text/plain": [
       "'average'"
      ]
     },
     "execution_count": 46,
     "metadata": {},
     "output_type": "execute_result"
    }
   ],
   "source": [
    "s1.height"
   ]
  },
  {
   "cell_type": "code",
   "execution_count": 47,
   "id": "retired-domestic",
   "metadata": {},
   "outputs": [],
   "source": [
    "s4 = Student(row_and_seat = ('B', 1), height = \"tall\" )"
   ]
  },
  {
   "cell_type": "code",
   "execution_count": 48,
   "id": "continental-withdrawal",
   "metadata": {},
   "outputs": [
    {
     "data": {
      "text/plain": [
       "(('B', 1), 'tall')"
      ]
     },
     "execution_count": 48,
     "metadata": {},
     "output_type": "execute_result"
    }
   ],
   "source": [
    "s4.row_and_seat, s4.height"
   ]
  },
  {
   "cell_type": "code",
   "execution_count": 49,
   "id": "under-consequence",
   "metadata": {},
   "outputs": [
    {
     "data": {
      "text/plain": [
       "{'group_name': <traitlets.traitlets.Unicode at 0x7f4fb36a3a00>,\n",
       " 'height': <traitlets.traitlets.Unicode at 0x7f4fb36a38e0>,\n",
       " 'name': <traitlets.traitlets.Unicode at 0x7f4fb36a3490>,\n",
       " 'row_and_seat': <traitlets.traitlets.Tuple at 0x7f4fb36a3250>}"
      ]
     },
     "execution_count": 49,
     "metadata": {},
     "output_type": "execute_result"
    }
   ],
   "source": [
    "s4.traits()"
   ]
  },
  {
   "cell_type": "code",
   "execution_count": 50,
   "id": "rising-picture",
   "metadata": {},
   "outputs": [
    {
     "data": {
      "text/plain": [
       "''"
      ]
     },
     "execution_count": 50,
     "metadata": {},
     "output_type": "execute_result"
    }
   ],
   "source": [
    "s1.group_name"
   ]
  },
  {
   "cell_type": "code",
   "execution_count": 51,
   "id": "indonesian-confidence",
   "metadata": {},
   "outputs": [
    {
     "data": {
      "text/plain": [
       "''"
      ]
     },
     "execution_count": 51,
     "metadata": {},
     "output_type": "execute_result"
    }
   ],
   "source": [
    "s2.group_name"
   ]
  },
  {
   "cell_type": "code",
   "execution_count": 52,
   "id": "destroyed-quest",
   "metadata": {},
   "outputs": [
    {
     "data": {
      "text/plain": [
       "<traitlets.traitlets.link at 0x7f4fb3678d00>"
      ]
     },
     "execution_count": 52,
     "metadata": {},
     "output_type": "execute_result"
    }
   ],
   "source": [
    "traitlets.link( (s1, \"group_name\"), (s2, \"group_name\") )"
   ]
  },
  {
   "cell_type": "code",
   "execution_count": 53,
   "id": "played-blues",
   "metadata": {},
   "outputs": [],
   "source": [
    "s1.group_name = \"The Mongooses\""
   ]
  },
  {
   "cell_type": "code",
   "execution_count": 54,
   "id": "conscious-making",
   "metadata": {},
   "outputs": [
    {
     "data": {
      "text/plain": [
       "'The Mongooses'"
      ]
     },
     "execution_count": 54,
     "metadata": {},
     "output_type": "execute_result"
    }
   ],
   "source": [
    "s1.group_name"
   ]
  },
  {
   "cell_type": "code",
   "execution_count": 55,
   "id": "rotary-mitchell",
   "metadata": {},
   "outputs": [
    {
     "data": {
      "text/plain": [
       "'The Mongooses'"
      ]
     },
     "execution_count": 55,
     "metadata": {},
     "output_type": "execute_result"
    }
   ],
   "source": [
    "s2.group_name"
   ]
  },
  {
   "cell_type": "code",
   "execution_count": 56,
   "id": "minimal-extraction",
   "metadata": {},
   "outputs": [],
   "source": [
    "s2.group_name = \"Universe A\""
   ]
  },
  {
   "cell_type": "code",
   "execution_count": 57,
   "id": "coordinated-handbook",
   "metadata": {},
   "outputs": [
    {
     "data": {
      "text/plain": [
       "'Universe A'"
      ]
     },
     "execution_count": 57,
     "metadata": {},
     "output_type": "execute_result"
    }
   ],
   "source": [
    "s2.group_name"
   ]
  },
  {
   "cell_type": "code",
   "execution_count": 58,
   "id": "exact-rolling",
   "metadata": {},
   "outputs": [
    {
     "data": {
      "text/plain": [
       "'Universe A'"
      ]
     },
     "execution_count": 58,
     "metadata": {},
     "output_type": "execute_result"
    }
   ],
   "source": [
    "s1.group_name"
   ]
  },
  {
   "cell_type": "code",
   "execution_count": 59,
   "id": "awful-empire",
   "metadata": {},
   "outputs": [],
   "source": [
    "class Group(traitlets.HasTraits):\n",
    "    name = traitlets.Unicode()\n",
    "g = Group(name = \"Universe One\")"
   ]
  },
  {
   "cell_type": "code",
   "execution_count": 60,
   "id": "exciting-simulation",
   "metadata": {},
   "outputs": [
    {
     "data": {
      "text/plain": [
       "<traitlets.traitlets.link at 0x7f4fb3717b20>"
      ]
     },
     "execution_count": 60,
     "metadata": {},
     "output_type": "execute_result"
    }
   ],
   "source": [
    "traitlets.link( (s3, \"group_name\"), (g, \"name\"))"
   ]
  },
  {
   "cell_type": "code",
   "execution_count": 61,
   "id": "lesbian-webmaster",
   "metadata": {},
   "outputs": [
    {
     "data": {
      "text/plain": [
       "''"
      ]
     },
     "execution_count": 61,
     "metadata": {},
     "output_type": "execute_result"
    }
   ],
   "source": [
    "s3.group_name"
   ]
  },
  {
   "cell_type": "code",
   "execution_count": 62,
   "id": "stock-theater",
   "metadata": {},
   "outputs": [
    {
     "data": {
      "text/plain": [
       "''"
      ]
     },
     "execution_count": 62,
     "metadata": {},
     "output_type": "execute_result"
    }
   ],
   "source": [
    "g.name"
   ]
  },
  {
   "cell_type": "code",
   "execution_count": 63,
   "id": "established-variation",
   "metadata": {},
   "outputs": [],
   "source": [
    "g.name = \"Universe One\""
   ]
  },
  {
   "cell_type": "code",
   "execution_count": 64,
   "id": "twenty-mistake",
   "metadata": {},
   "outputs": [
    {
     "data": {
      "text/plain": [
       "'Universe One'"
      ]
     },
     "execution_count": 64,
     "metadata": {},
     "output_type": "execute_result"
    }
   ],
   "source": [
    "s3.group_name"
   ]
  },
  {
   "cell_type": "code",
   "execution_count": 65,
   "id": "breeding-popularity",
   "metadata": {},
   "outputs": [],
   "source": [
    "def print_band_name(name):\n",
    "    print(\"Band name is \", name)"
   ]
  },
  {
   "cell_type": "code",
   "execution_count": 66,
   "id": "otherwise-arlington",
   "metadata": {},
   "outputs": [
    {
     "name": "stdout",
     "output_type": "stream",
     "text": [
      "Band name is  The Hives\n"
     ]
    }
   ],
   "source": [
    "print_band_name(\"The Hives\")"
   ]
  },
  {
   "cell_type": "code",
   "execution_count": 67,
   "id": "verified-tackle",
   "metadata": {},
   "outputs": [
    {
     "name": "stdout",
     "output_type": "stream",
     "text": [
      "Band name is  Project\n"
     ]
    }
   ],
   "source": [
    "print_band_name(\"Project\")"
   ]
  },
  {
   "cell_type": "code",
   "execution_count": 68,
   "id": "according-portrait",
   "metadata": {},
   "outputs": [],
   "source": [
    "import ipywidgets"
   ]
  },
  {
   "cell_type": "code",
   "execution_count": 73,
   "id": "constant-example",
   "metadata": {},
   "outputs": [
    {
     "data": {
      "application/vnd.jupyter.widget-view+json": {
       "model_id": "2b6f88eec59749b3abe5d5afb1592c64",
       "version_major": 2,
       "version_minor": 0
      },
      "text/plain": [
       "interactive(children=(Dropdown(description='name', options=('The Hives', 'The Kingsmen', 'The Breeders'), valu…"
      ]
     },
     "metadata": {},
     "output_type": "display_data"
    }
   ],
   "source": [
    "@ipywidgets.interact(name = [\"The Hives\", \"The Kingsmen\", \"The Breeders\"])\n",
    "def print_band_name(name):\n",
    "    print(\"Band name is \", name)"
   ]
  },
  {
   "cell_type": "code",
   "execution_count": 74,
   "id": "damaged-brand",
   "metadata": {},
   "outputs": [
    {
     "data": {
      "application/vnd.jupyter.widget-view+json": {
       "model_id": "57f3301dd4634dce844a85b4314fb182",
       "version_major": 2,
       "version_minor": 0
      },
      "text/plain": [
       "interactive(children=(Text(value='stuff', description='name'), Output()), _dom_classes=('widget-interact',))"
      ]
     },
     "metadata": {},
     "output_type": "display_data"
    }
   ],
   "source": [
    "@ipywidgets.interact(name = \"stuff\")\n",
    "def print_band_name(name):\n",
    "    print(\"Band name is \", name)"
   ]
  },
  {
   "cell_type": "code",
   "execution_count": 75,
   "id": "loaded-development",
   "metadata": {},
   "outputs": [
    {
     "data": {
      "application/vnd.jupyter.widget-view+json": {
       "model_id": "ede83074461f4327b281f613854adc60",
       "version_major": 2,
       "version_minor": 0
      },
      "text/plain": [
       "interactive(children=(FloatSlider(value=50.0, description='divisor', min=1.0), Output()), _dom_classes=('widge…"
      ]
     },
     "metadata": {},
     "output_type": "display_data"
    }
   ],
   "source": [
    "@ipywidgets.interact(divisor = (1, 100, .1))\n",
    "def divide_by_divisor(divisor):\n",
    "    print(\"Some value \", 217, \"divided by\", divisor, \" = \", 217 / divisor)"
   ]
  },
  {
   "cell_type": "code",
   "execution_count": 76,
   "id": "alleged-store",
   "metadata": {},
   "outputs": [
    {
     "name": "stderr",
     "output_type": "stream",
     "text": [
      "Matplotlib created a temporary config/cache directory at /tmp/matplotlib-02dn0rrr because the default path (/tmp/cache/matplotlib) is not a writable directory; it is highly recommended to set the MPLCONFIGDIR environment variable to a writable directory, in particular to speed up the import of Matplotlib and to better support multiprocessing.\n"
     ]
    }
   ],
   "source": [
    "import matplotlib.pyplot as plt"
   ]
  },
  {
   "cell_type": "code",
   "execution_count": 79,
   "id": "reverse-mother",
   "metadata": {},
   "outputs": [
    {
     "data": {
      "text/plain": [
       "['Solarize_Light2',\n",
       " '_classic_test_patch',\n",
       " 'bmh',\n",
       " 'classic',\n",
       " 'dark_background',\n",
       " 'fast',\n",
       " 'fivethirtyeight',\n",
       " 'ggplot',\n",
       " 'grayscale',\n",
       " 'seaborn',\n",
       " 'seaborn-bright',\n",
       " 'seaborn-colorblind',\n",
       " 'seaborn-dark',\n",
       " 'seaborn-dark-palette',\n",
       " 'seaborn-darkgrid',\n",
       " 'seaborn-deep',\n",
       " 'seaborn-muted',\n",
       " 'seaborn-notebook',\n",
       " 'seaborn-paper',\n",
       " 'seaborn-pastel',\n",
       " 'seaborn-poster',\n",
       " 'seaborn-talk',\n",
       " 'seaborn-ticks',\n",
       " 'seaborn-white',\n",
       " 'seaborn-whitegrid',\n",
       " 'tableau-colorblind10']"
      ]
     },
     "execution_count": 79,
     "metadata": {},
     "output_type": "execute_result"
    }
   ],
   "source": [
    "plt.style.available"
   ]
  },
  {
   "cell_type": "code",
   "execution_count": 86,
   "id": "senior-literature",
   "metadata": {},
   "outputs": [
    {
     "data": {
      "application/vnd.jupyter.widget-view+json": {
       "model_id": "a51ba978f3794bddaf203c4bb4907bf7",
       "version_major": 2,
       "version_minor": 0
      },
      "text/plain": [
       "interactive(children=(Dropdown(description='style', options=('Solarize_Light2', '_classic_test_patch', 'bmh', …"
      ]
     },
     "metadata": {},
     "output_type": "display_data"
    }
   ],
   "source": [
    "@ipywidgets.interact(style = plt.style.available)\n",
    "def example_plot(style):\n",
    "    with plt.style.context(style):\n",
    "        plt.plot([1, 2, 5.3, 9], [4, 2.1, 9, 0.4])"
   ]
  },
  {
   "cell_type": "code",
   "execution_count": 91,
   "id": "associate-savannah",
   "metadata": {},
   "outputs": [],
   "source": [
    "int_slider = ipywidgets.IntSlider(min = -100, max = 101)"
   ]
  },
  {
   "cell_type": "code",
   "execution_count": 92,
   "id": "sought-bolivia",
   "metadata": {},
   "outputs": [
    {
     "data": {
      "application/vnd.jupyter.widget-view+json": {
       "model_id": "bbb5ac4cc66a4132accb0638fdd4f631",
       "version_major": 2,
       "version_minor": 0
      },
      "text/plain": [
       "IntSlider(value=0, max=101, min=-100)"
      ]
     },
     "metadata": {},
     "output_type": "display_data"
    }
   ],
   "source": [
    "int_slider"
   ]
  },
  {
   "cell_type": "code",
   "execution_count": 93,
   "id": "phantom-mount",
   "metadata": {},
   "outputs": [
    {
     "data": {
      "text/plain": [
       "(-100, 101)"
      ]
     },
     "execution_count": 93,
     "metadata": {},
     "output_type": "execute_result"
    }
   ],
   "source": [
    "int_slider.min, int_slider.max"
   ]
  },
  {
   "cell_type": "code",
   "execution_count": 95,
   "id": "raised-premises",
   "metadata": {},
   "outputs": [
    {
     "data": {
      "text/plain": [
       "56"
      ]
     },
     "execution_count": 95,
     "metadata": {},
     "output_type": "execute_result"
    }
   ],
   "source": [
    "int_slider.value"
   ]
  },
  {
   "cell_type": "code",
   "execution_count": 97,
   "id": "revolutionary-netscape",
   "metadata": {},
   "outputs": [],
   "source": [
    "bounded_int = ipywidgets.BoundedIntText(min = -100, max = 101)"
   ]
  },
  {
   "cell_type": "code",
   "execution_count": 98,
   "id": "phantom-clinton",
   "metadata": {},
   "outputs": [
    {
     "data": {
      "application/vnd.jupyter.widget-view+json": {
       "model_id": "e138778f01d24296b32380eb7dd3422d",
       "version_major": 2,
       "version_minor": 0
      },
      "text/plain": [
       "BoundedIntText(value=0, max=101, min=-100)"
      ]
     },
     "metadata": {},
     "output_type": "display_data"
    }
   ],
   "source": [
    "bounded_int"
   ]
  },
  {
   "cell_type": "code",
   "execution_count": 99,
   "id": "senior-fiction",
   "metadata": {},
   "outputs": [
    {
     "data": {
      "text/plain": [
       "<traitlets.traitlets.link at 0x7f4fa62efe80>"
      ]
     },
     "execution_count": 99,
     "metadata": {},
     "output_type": "execute_result"
    }
   ],
   "source": [
    "traitlets.link((int_slider, 'value'), (bounded_int, 'value'))"
   ]
  },
  {
   "cell_type": "code",
   "execution_count": 107,
   "id": "published-conditions",
   "metadata": {},
   "outputs": [],
   "source": [
    "irs = ipywidgets.IntRangeSlider(min = -1000)"
   ]
  },
  {
   "cell_type": "code",
   "execution_count": 108,
   "id": "wound-lodging",
   "metadata": {},
   "outputs": [
    {
     "data": {
      "text/plain": [
       "(-725, -175)"
      ]
     },
     "execution_count": 108,
     "metadata": {},
     "output_type": "execute_result"
    }
   ],
   "source": [
    "irs.value"
   ]
  },
  {
   "cell_type": "code",
   "execution_count": 109,
   "id": "directed-binding",
   "metadata": {},
   "outputs": [
    {
     "data": {
      "application/vnd.jupyter.widget-view+json": {
       "model_id": "47b58a35bb4d4ca882efe0eaaa264a32",
       "version_major": 2,
       "version_minor": 0
      },
      "text/plain": [
       "interactive(children=(IntRangeSlider(value=(-725, -175), description='bounds', min=-1000), Output()), _dom_cla…"
      ]
     },
     "metadata": {},
     "output_type": "display_data"
    }
   ],
   "source": [
    "@ipywidgets.interact(bounds = irs)\n",
    "def show_bounds(bounds):\n",
    "    print(\"Spanning \", bounds[0], \"to\", bounds[1])"
   ]
  },
  {
   "cell_type": "code",
   "execution_count": 113,
   "id": "played-bidder",
   "metadata": {},
   "outputs": [
    {
     "data": {
      "application/vnd.jupyter.widget-view+json": {
       "model_id": "e39aa3fabb844559a39a4a983d2fd407",
       "version_major": 2,
       "version_minor": 0
      },
      "text/plain": [
       "ColorPicker(value='black')"
      ]
     },
     "metadata": {},
     "output_type": "display_data"
    }
   ],
   "source": [
    "cp = ipywidgets.ColorPicker()\n",
    "cp"
   ]
  },
  {
   "cell_type": "code",
   "execution_count": 115,
   "id": "employed-transformation",
   "metadata": {},
   "outputs": [
    {
     "data": {
      "text/plain": [
       "'#1a2f99'"
      ]
     },
     "execution_count": 115,
     "metadata": {},
     "output_type": "execute_result"
    }
   ],
   "source": [
    "cp.value"
   ]
  },
  {
   "cell_type": "code",
   "execution_count": 117,
   "id": "lyric-appliance",
   "metadata": {},
   "outputs": [
    {
     "data": {
      "application/vnd.jupyter.widget-view+json": {
       "model_id": "5714fc77b23d4cf69986a362210d60e5",
       "version_major": 2,
       "version_minor": 0
      },
      "text/plain": [
       "DatePicker(value=None)"
      ]
     },
     "metadata": {},
     "output_type": "display_data"
    }
   ],
   "source": [
    "ipywidgets.DatePicker()"
   ]
  },
  {
   "cell_type": "code",
   "execution_count": 118,
   "id": "backed-slope",
   "metadata": {},
   "outputs": [
    {
     "data": {
      "application/vnd.jupyter.widget-view+json": {
       "model_id": "1c405df107a94b858bde3186c0ed7f98",
       "version_major": 2,
       "version_minor": 0
      },
      "text/plain": [
       "Controller()"
      ]
     },
     "metadata": {},
     "output_type": "display_data"
    }
   ],
   "source": [
    "ipywidgets.Controller()"
   ]
  },
  {
   "cell_type": "code",
   "execution_count": 119,
   "id": "reported-cherry",
   "metadata": {},
   "outputs": [],
   "source": [
    "html = ipywidgets.HTML()"
   ]
  },
  {
   "cell_type": "code",
   "execution_count": 120,
   "id": "based-soundtrack",
   "metadata": {},
   "outputs": [
    {
     "data": {
      "application/vnd.jupyter.widget-view+json": {
       "model_id": "6520987d85fc46a884544855782f0ed7",
       "version_major": 2,
       "version_minor": 0
      },
      "text/plain": [
       "HTML(value='')"
      ]
     },
     "metadata": {},
     "output_type": "display_data"
    }
   ],
   "source": [
    "html"
   ]
  },
  {
   "cell_type": "code",
   "execution_count": 123,
   "id": "radical-disaster",
   "metadata": {},
   "outputs": [
    {
     "data": {
      "application/vnd.jupyter.widget-view+json": {
       "model_id": "799ebad1d832488986c6da9446d3ab0e",
       "version_major": 2,
       "version_minor": 0
      },
      "text/plain": [
       "Textarea(value='')"
      ]
     },
     "metadata": {},
     "output_type": "display_data"
    }
   ],
   "source": [
    "ta = ipywidgets.Textarea()\n",
    "ta"
   ]
  },
  {
   "cell_type": "code",
   "execution_count": 131,
   "id": "perceived-variance",
   "metadata": {},
   "outputs": [
    {
     "data": {
      "application/vnd.jupyter.widget-view+json": {
       "model_id": "799ebad1d832488986c6da9446d3ab0e",
       "version_major": 2,
       "version_minor": 0
      },
      "text/plain": [
       "Textarea(value='whenever I type something it updates the <b>HTML</b>')"
      ]
     },
     "metadata": {},
     "output_type": "display_data"
    }
   ],
   "source": [
    "ta"
   ]
  },
  {
   "cell_type": "code",
   "execution_count": 125,
   "id": "theoretical-pittsburgh",
   "metadata": {},
   "outputs": [
    {
     "data": {
      "text/plain": [
       "'I type something'"
      ]
     },
     "execution_count": 125,
     "metadata": {},
     "output_type": "execute_result"
    }
   ],
   "source": [
    "ta.value"
   ]
  },
  {
   "cell_type": "code",
   "execution_count": 126,
   "id": "frozen-shaft",
   "metadata": {},
   "outputs": [
    {
     "data": {
      "text/plain": [
       "<traitlets.traitlets.link at 0x7f4fa64870a0>"
      ]
     },
     "execution_count": 126,
     "metadata": {},
     "output_type": "execute_result"
    }
   ],
   "source": [
    "traitlets.link((html, \"value\"), (ta, \"value\"))"
   ]
  },
  {
   "cell_type": "code",
   "execution_count": 127,
   "id": "neural-zimbabwe",
   "metadata": {},
   "outputs": [],
   "source": [
    "sliders = [ipywidgets.IntSlider() for _ in range(10)]"
   ]
  },
  {
   "cell_type": "code",
   "execution_count": 129,
   "id": "fabulous-platform",
   "metadata": {},
   "outputs": [
    {
     "data": {
      "application/vnd.jupyter.widget-view+json": {
       "model_id": "a48ee53758ec4d91b0d0333a0b55c421",
       "version_major": 2,
       "version_minor": 0
      },
      "text/plain": [
       "HBox(children=(IntSlider(value=0), IntSlider(value=0), IntSlider(value=0), IntSlider(value=0), IntSlider(value…"
      ]
     },
     "metadata": {},
     "output_type": "display_data"
    }
   ],
   "source": [
    "ipywidgets.HBox(sliders)"
   ]
  },
  {
   "cell_type": "code",
   "execution_count": 130,
   "id": "inside-courtesy",
   "metadata": {},
   "outputs": [
    {
     "data": {
      "application/vnd.jupyter.widget-view+json": {
       "model_id": "66dc1ad2a8aa4a7e86db7cc37b2279c1",
       "version_major": 2,
       "version_minor": 0
      },
      "text/plain": [
       "VBox(children=(IntSlider(value=56), IntSlider(value=51), IntSlider(value=0), IntSlider(value=0), IntSlider(val…"
      ]
     },
     "metadata": {},
     "output_type": "display_data"
    }
   ],
   "source": [
    "ipywidgets.VBox(sliders)"
   ]
  },
  {
   "cell_type": "code",
   "execution_count": 132,
   "id": "successful-conservative",
   "metadata": {},
   "outputs": [],
   "source": [
    "our_display = ipywidgets.HTML()"
   ]
  },
  {
   "cell_type": "code",
   "execution_count": 133,
   "id": "applied-popularity",
   "metadata": {},
   "outputs": [
    {
     "data": {
      "application/vnd.jupyter.widget-view+json": {
       "model_id": "21d3bc93e20c4b1ab26c81aa98e033fe",
       "version_major": 2,
       "version_minor": 0
      },
      "text/plain": [
       "HTML(value='')"
      ]
     },
     "metadata": {},
     "output_type": "display_data"
    }
   ],
   "source": [
    "our_display"
   ]
  },
  {
   "cell_type": "code",
   "execution_count": 134,
   "id": "experimental-calibration",
   "metadata": {},
   "outputs": [
    {
     "data": {
      "text/plain": [
       "<traitlets.traitlets.link at 0x7f4fa64eef40>"
      ]
     },
     "execution_count": 134,
     "metadata": {},
     "output_type": "execute_result"
    }
   ],
   "source": [
    "traitlets.link((speak_now, \"name\"), (our_display, \"value\"))"
   ]
  },
  {
   "cell_type": "code",
   "execution_count": 135,
   "id": "broad-times",
   "metadata": {},
   "outputs": [
    {
     "name": "stdout",
     "output_type": "stream",
     "text": [
      "Changed name from Speak Now (Taylor's Version) to Speak Now (Taylor's Version (Taylor's Version))\n"
     ]
    }
   ],
   "source": [
    "speak_now.name = \"Speak Now (Taylor's Version (Taylor's Version))\""
   ]
  },
  {
   "cell_type": "code",
   "execution_count": 147,
   "id": "dirty-analysis",
   "metadata": {},
   "outputs": [],
   "source": [
    "my_button = ipywidgets.Button(description = \"Click on me!\")"
   ]
  },
  {
   "cell_type": "code",
   "execution_count": 148,
   "id": "imposed-corpus",
   "metadata": {},
   "outputs": [
    {
     "data": {
      "application/vnd.jupyter.widget-view+json": {
       "model_id": "5e2d51fba95a4b9a999b63cdfecee1e4",
       "version_major": 2,
       "version_minor": 0
      },
      "text/plain": [
       "Button(description='Click on me!', style=ButtonStyle())"
      ]
     },
     "metadata": {},
     "output_type": "display_data"
    }
   ],
   "source": [
    "my_button"
   ]
  },
  {
   "cell_type": "code",
   "execution_count": 149,
   "id": "significant-dakota",
   "metadata": {},
   "outputs": [],
   "source": [
    "class Counter(traitlets.HasTraits):\n",
    "    num_clicks = traitlets.Int()"
   ]
  },
  {
   "cell_type": "code",
   "execution_count": 150,
   "id": "comparative-toolbox",
   "metadata": {},
   "outputs": [],
   "source": [
    "counter = Counter()\n",
    "\n",
    "def click_button(b):\n",
    "    counter.num_clicks += 1\n",
    "\n",
    "my_button.on_click(click_button)"
   ]
  },
  {
   "cell_type": "code",
   "execution_count": 151,
   "id": "israeli-pride",
   "metadata": {},
   "outputs": [
    {
     "data": {
      "text/plain": [
       "0"
      ]
     },
     "execution_count": 151,
     "metadata": {},
     "output_type": "execute_result"
    }
   ],
   "source": [
    "counter.num_clicks"
   ]
  },
  {
   "cell_type": "code",
   "execution_count": null,
   "id": "featured-venice",
   "metadata": {},
   "outputs": [],
   "source": []
  },
  {
   "cell_type": "code",
   "execution_count": 152,
   "id": "hispanic-patrol",
   "metadata": {},
   "outputs": [
    {
     "data": {
      "text/plain": [
       "<traitlets.traitlets.link at 0x7f4fa635e7f0>"
      ]
     },
     "execution_count": 152,
     "metadata": {},
     "output_type": "execute_result"
    }
   ],
   "source": [
    "l = ipywidgets.Label()\n",
    "traitlets.link((counter, \"num_clicks\"), (l, \"value\"), (lambda a: str(a), lambda a: int(a)))"
   ]
  },
  {
   "cell_type": "code",
   "execution_count": 153,
   "id": "afraid-vatican",
   "metadata": {},
   "outputs": [
    {
     "data": {
      "application/vnd.jupyter.widget-view+json": {
       "model_id": "c2142877f45c4ecc9e5bde5af0a67c05",
       "version_major": 2,
       "version_minor": 0
      },
      "text/plain": [
       "Label(value='0')"
      ]
     },
     "metadata": {},
     "output_type": "display_data"
    }
   ],
   "source": [
    "l"
   ]
  },
  {
   "cell_type": "code",
   "execution_count": 154,
   "id": "figured-database",
   "metadata": {},
   "outputs": [],
   "source": [
    "l.value = \"15\""
   ]
  },
  {
   "cell_type": "code",
   "execution_count": 155,
   "id": "romantic-differential",
   "metadata": {},
   "outputs": [
    {
     "data": {
      "text/plain": [
       "15"
      ]
     },
     "execution_count": 155,
     "metadata": {},
     "output_type": "execute_result"
    }
   ],
   "source": [
    "counter.num_clicks"
   ]
  },
  {
   "cell_type": "code",
   "execution_count": null,
   "id": "loved-yellow",
   "metadata": {},
   "outputs": [],
   "source": []
  }
 ],
 "metadata": {
  "kernelspec": {
   "display_name": "Python 3",
   "language": "python",
   "name": "python3"
  },
  "language_info": {
   "codemirror_mode": {
    "name": "ipython",
    "version": 3
   },
   "file_extension": ".py",
   "mimetype": "text/x-python",
   "name": "python",
   "nbconvert_exporter": "python",
   "pygments_lexer": "ipython3",
   "version": "3.8.6"
  }
 },
 "nbformat": 4,
 "nbformat_minor": 5
}
