{
 "cells": [
  {
   "cell_type": "code",
   "execution_count": 1,
   "id": "reliable-decade",
   "metadata": {},
   "outputs": [],
   "source": [
    "import bqplot\n",
    "import numpy as np\n",
    "\n",
    "x = np.arange(100)\n",
    "y = np.random.random(100) + 5"
   ]
  },
  {
   "cell_type": "code",
   "execution_count": 4,
   "id": "rubber-horror",
   "metadata": {},
   "outputs": [],
   "source": [
    "x_sc = bqplot.LinearScale()\n",
    "y_sc = bqplot.LinearScale()"
   ]
  },
  {
   "cell_type": "code",
   "execution_count": 5,
   "id": "brave-alloy",
   "metadata": {},
   "outputs": [],
   "source": [
    "lines = bqplot.Lines(x = x, y = y, scales = {'x': x_sc, 'y': y_sc})"
   ]
  },
  {
   "cell_type": "code",
   "execution_count": 7,
   "id": "sonic-grant",
   "metadata": {},
   "outputs": [],
   "source": [
    "ax_x = bqplot.Axis(scale = x_sc, label = \"X Value\")\n",
    "ax_y = bqplot.Axis(scale = y_sc, label = \"Y Value\")"
   ]
  },
  {
   "cell_type": "code",
   "execution_count": 8,
   "id": "theoretical-indiana",
   "metadata": {},
   "outputs": [
    {
     "data": {
      "application/vnd.jupyter.widget-view+json": {
       "model_id": "13baa7088f6143fba36debec0635bd28",
       "version_major": 2,
       "version_minor": 0
      },
      "text/plain": [
       "Figure(axes=[Axis(label='X Value', scale=LinearScale(), side='bottom'), Axis(label='Y Value', scale=LinearScal…"
      ]
     },
     "metadata": {},
     "output_type": "display_data"
    }
   ],
   "source": [
    "fig = bqplot.Figure(marks = [lines], axes = [ax_x, ax_y])\n",
    "fig"
   ]
  },
  {
   "cell_type": "code",
   "execution_count": 10,
   "id": "expanded-server",
   "metadata": {},
   "outputs": [],
   "source": [
    "ax_y.orientation = \"vertical\""
   ]
  },
  {
   "cell_type": "code",
   "execution_count": 13,
   "id": "provincial-commonwealth",
   "metadata": {},
   "outputs": [],
   "source": [
    "import ipywidgets"
   ]
  },
  {
   "cell_type": "code",
   "execution_count": 16,
   "id": "cellular-drawing",
   "metadata": {},
   "outputs": [
    {
     "data": {
      "application/vnd.jupyter.widget-view+json": {
       "model_id": "c92da83e25b44d32a2c6c324f8833c2c",
       "version_major": 2,
       "version_minor": 0
      },
      "text/plain": [
       "IntRangeSlider(value=(-25, 125), max=200, min=-100)"
      ]
     },
     "metadata": {},
     "output_type": "display_data"
    }
   ],
   "source": [
    "x_domain = ipywidgets.IntRangeSlider(min = -100, max = 200)\n",
    "\n",
    "def update_range(change):\n",
    "    x_sc.min = change[\"new\"][0]\n",
    "    x_sc.max = change[\"new\"][1]\n",
    "x_domain.observe(update_range, [\"value\"])\n",
    "\n",
    "x_domain"
   ]
  },
  {
   "cell_type": "code",
   "execution_count": 21,
   "id": "interior-special",
   "metadata": {},
   "outputs": [],
   "source": [
    "bx = [\"A\", \"B\", \"C\", \"D\"]\n",
    "by = [100, 21, 57, 99]"
   ]
  },
  {
   "cell_type": "code",
   "execution_count": 22,
   "id": "continental-nirvana",
   "metadata": {},
   "outputs": [],
   "source": [
    "bx_sc = bqplot.OrdinalScale(domain = bx)\n",
    "by_sc = bqplot.LinearScale()"
   ]
  },
  {
   "cell_type": "code",
   "execution_count": 24,
   "id": "accomplished-observer",
   "metadata": {},
   "outputs": [],
   "source": [
    "bar = bqplot.Bars(x = bx, y = by, scales = {'x': bx_sc, 'y': by_sc})"
   ]
  },
  {
   "cell_type": "code",
   "execution_count": 26,
   "id": "neural-alias",
   "metadata": {},
   "outputs": [],
   "source": [
    "bax_x = bqplot.Axis(scale = bx_sc)\n",
    "bax_y = bqplot.Axis(scale = by_sc, orientation = 'vertical')\n",
    "fig = bqplot.Figure(marks = [bar], axes = [bax_x, bax_y])"
   ]
  },
  {
   "cell_type": "code",
   "execution_count": 27,
   "id": "assigned-insulation",
   "metadata": {},
   "outputs": [
    {
     "data": {
      "application/vnd.jupyter.widget-view+json": {
       "model_id": "4ff7493d002b4402a7783a719b21d819",
       "version_major": 2,
       "version_minor": 0
      },
      "text/plain": [
       "Figure(axes=[Axis(scale=OrdinalScale(domain=['A', 'B', 'C', 'D']), side='bottom'), Axis(orientation='vertical'…"
      ]
     },
     "metadata": {},
     "output_type": "display_data"
    }
   ],
   "source": [
    "fig"
   ]
  },
  {
   "cell_type": "code",
   "execution_count": 28,
   "id": "architectural-season",
   "metadata": {},
   "outputs": [],
   "source": [
    "bar.colors = [\"steelblue\", \"red\", \"green\", \"yellow\"]"
   ]
  },
  {
   "cell_type": "code",
   "execution_count": 36,
   "id": "precise-projector",
   "metadata": {},
   "outputs": [],
   "source": [
    "bar.opacities = [1.0]"
   ]
  },
  {
   "cell_type": "code",
   "execution_count": 39,
   "id": "serial-shirt",
   "metadata": {},
   "outputs": [
    {
     "data": {
      "text/plain": [
       "bqplot.interacts.FastIntervalSelector"
      ]
     },
     "execution_count": 39,
     "metadata": {},
     "output_type": "execute_result"
    }
   ],
   "source": []
  },
  {
   "cell_type": "code",
   "execution_count": 42,
   "id": "aquatic-arena",
   "metadata": {},
   "outputs": [],
   "source": [
    "interval = bqplot.interacts.FastIntervalSelector(scale = x_sc, marks = [lines])"
   ]
  },
  {
   "cell_type": "code",
   "execution_count": 44,
   "id": "bridal-neutral",
   "metadata": {},
   "outputs": [
    {
     "data": {
      "application/vnd.jupyter.widget-view+json": {
       "model_id": "404da15c759947ff85d945a1b1d8a03d",
       "version_major": 2,
       "version_minor": 0
      },
      "text/plain": [
       "Figure(axes=[Axis(label='X Value', scale=LinearScale(max=97.0, min=-16.0), side='bottom'), Axis(label='Y Value…"
      ]
     },
     "metadata": {},
     "output_type": "display_data"
    }
   ],
   "source": [
    "fig = bqplot.Figure(marks = [lines], axes = [ax_x, ax_y], interaction = interval)\n",
    "fig"
   ]
  },
  {
   "cell_type": "code",
   "execution_count": 50,
   "id": "shared-strand",
   "metadata": {},
   "outputs": [
    {
     "data": {
      "text/plain": [
       "array([23.39558514, 29.6513665 ])"
      ]
     },
     "execution_count": 50,
     "metadata": {},
     "output_type": "execute_result"
    }
   ],
   "source": [
    "\n",
    "interval.selected"
   ]
  },
  {
   "cell_type": "code",
   "execution_count": null,
   "id": "complex-treaty",
   "metadata": {},
   "outputs": [],
   "source": []
  }
 ],
 "metadata": {
  "kernelspec": {
   "display_name": "Python 3",
   "language": "python",
   "name": "python3"
  },
  "language_info": {
   "codemirror_mode": {
    "name": "ipython",
    "version": 3
   },
   "file_extension": ".py",
   "mimetype": "text/x-python",
   "name": "python",
   "nbconvert_exporter": "python",
   "pygments_lexer": "ipython3",
   "version": "3.8.6"
  }
 },
 "nbformat": 4,
 "nbformat_minor": 5
}
