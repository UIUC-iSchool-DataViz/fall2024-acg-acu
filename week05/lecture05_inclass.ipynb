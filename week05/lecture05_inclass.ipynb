{
 "cells": [
  {
   "cell_type": "code",
   "execution_count": 1,
   "id": "forty-delivery",
   "metadata": {},
   "outputs": [],
   "source": [
    "import bqplot\n",
    "import numpy as np"
   ]
  },
  {
   "cell_type": "code",
   "execution_count": 2,
   "id": "sublime-ratio",
   "metadata": {},
   "outputs": [
    {
     "data": {
      "application/vnd.jupyter.widget-view+json": {
       "model_id": "30e2fe0e1b6444da800edcdd5b2e2b1a",
       "version_major": 2,
       "version_minor": 0
      },
      "text/plain": [
       "Figure(fig_margin={'top': 60, 'bottom': 60, 'left': 60, 'right': 60}, scale_x=LinearScale(allow_padding=False,…"
      ]
     },
     "metadata": {},
     "output_type": "display_data"
    }
   ],
   "source": [
    "bqplot.Figure()"
   ]
  },
  {
   "cell_type": "code",
   "execution_count": 3,
   "id": "becoming-efficiency",
   "metadata": {},
   "outputs": [],
   "source": [
    "x = np.arange(100)\n",
    "y = np.random.random(100) + 5"
   ]
  },
  {
   "cell_type": "code",
   "execution_count": 6,
   "id": "incredible-spirit",
   "metadata": {},
   "outputs": [],
   "source": [
    "x_sc = bqplot.LinearScale()\n",
    "y_sc = bqplot.LinearScale()"
   ]
  },
  {
   "cell_type": "code",
   "execution_count": 13,
   "id": "enabling-developer",
   "metadata": {},
   "outputs": [],
   "source": [
    "lines = bqplot.Lines(x = x, y = y, scales = {'x': x_sc, 'y': y_sc})"
   ]
  },
  {
   "cell_type": "code",
   "execution_count": 14,
   "id": "sophisticated-compound",
   "metadata": {},
   "outputs": [
    {
     "data": {
      "application/vnd.jupyter.widget-view+json": {
       "model_id": "",
       "version_major": 2,
       "version_minor": 0
      },
      "text/plain": [
       "Figure(fig_margin={'top': 60, 'bottom': 60, 'left': 60, 'right': 60}, marks=[Lines(colors=['#1f77b4', '#ff7f0e…"
      ]
     },
     "metadata": {},
     "output_type": "display_data"
    }
   ],
   "source": [
    "fig = bqplot.Figure(marks = [lines])\n",
    "display(fig)"
   ]
  },
  {
   "cell_type": "code",
   "execution_count": 15,
   "id": "severe-highlight",
   "metadata": {},
   "outputs": [],
   "source": [
    "x_ax = bqplot.Axis(scale = x_sc, label = 'X Value')"
   ]
  },
  {
   "cell_type": "code",
   "execution_count": 16,
   "id": "adequate-locking",
   "metadata": {},
   "outputs": [],
   "source": [
    "fig.axes = [x_ax]"
   ]
  },
  {
   "cell_type": "code",
   "execution_count": 17,
   "id": "sustained-continuity",
   "metadata": {},
   "outputs": [],
   "source": [
    "y_ax = bqplot.Axis(scale = y_sc, label = 'Y Value', orientation = 'vertical')"
   ]
  },
  {
   "cell_type": "code",
   "execution_count": 18,
   "id": "recovered-nursing",
   "metadata": {},
   "outputs": [],
   "source": [
    "fig.axes.append(y_ax)"
   ]
  },
  {
   "cell_type": "code",
   "execution_count": 22,
   "id": "lyric-circulation",
   "metadata": {},
   "outputs": [],
   "source": [
    "fig.axes = []\n",
    "fig.axes = [x_ax, y_ax]"
   ]
  },
  {
   "cell_type": "code",
   "execution_count": 28,
   "id": "unexpected-questionnaire",
   "metadata": {},
   "outputs": [],
   "source": [
    "lines.colors = ['#ff0000']"
   ]
  },
  {
   "cell_type": "code",
   "execution_count": 30,
   "id": "empty-machinery",
   "metadata": {},
   "outputs": [],
   "source": [
    "x = [\"The Wild Robot\", \"Deadpool vs Wolverine\", \"Beetlejuice Beetlejuice\", \"Inside Out 2\"]\n",
    "y = [100, 250, 10, 500]"
   ]
  },
  {
   "cell_type": "code",
   "execution_count": 31,
   "id": "behind-gothic",
   "metadata": {},
   "outputs": [],
   "source": [
    "y_sc = bqplot.LinearScale()\n",
    "x_sc = bqplot.OrdinalScale()"
   ]
  },
  {
   "cell_type": "code",
   "execution_count": 37,
   "id": "elect-wheat",
   "metadata": {},
   "outputs": [],
   "source": [
    "bar = bqplot.Bars(x = x, y = y, scales = {'x': x_sc, 'y': y_sc})\n",
    "x_ax = bqplot.Axis(scale = x_sc)\n",
    "y_ax = bqplot.Axis(scale = y_sc, orientation = 'vertical')\n",
    "fig = bqplot.Figure(marks=[bar], axes = [x_ax, y_ax])"
   ]
  },
  {
   "cell_type": "code",
   "execution_count": 38,
   "id": "mechanical-campus",
   "metadata": {},
   "outputs": [
    {
     "data": {
      "application/vnd.jupyter.widget-view+json": {
       "model_id": "e1f3cd9f255344adae240eb03b07a918",
       "version_major": 2,
       "version_minor": 0
      },
      "text/plain": [
       "Figure(axes=[Axis(scale=OrdinalScale(), side='bottom'), Axis(orientation='vertical', scale=LinearScale(), side…"
      ]
     },
     "metadata": {},
     "output_type": "display_data"
    }
   ],
   "source": [
    "fig"
   ]
  },
  {
   "cell_type": "code",
   "execution_count": 40,
   "id": "departmental-juvenile",
   "metadata": {},
   "outputs": [],
   "source": [
    "selector = bqplot.interacts.IndexSelector(scale = x_sc)"
   ]
  },
  {
   "cell_type": "code",
   "execution_count": 41,
   "id": "mighty-baker",
   "metadata": {},
   "outputs": [],
   "source": [
    "fig.interaction = selector"
   ]
  },
  {
   "cell_type": "code",
   "execution_count": 42,
   "id": "appointed-discount",
   "metadata": {},
   "outputs": [
    {
     "data": {
      "text/plain": [
       "array(['Deadpool vs Wolverine'], dtype='<U21')"
      ]
     },
     "execution_count": 42,
     "metadata": {},
     "output_type": "execute_result"
    }
   ],
   "source": [
    "selector.selected"
   ]
  },
  {
   "cell_type": "code",
   "execution_count": 44,
   "id": "entertaining-photographer",
   "metadata": {},
   "outputs": [],
   "source": [
    "x = np.mgrid[0.0:4*np.pi:512j]\n",
    "y = np.sin(x) * np.cos(x) * (0.5 + np.random.random(512))"
   ]
  },
  {
   "cell_type": "code",
   "execution_count": 46,
   "id": "complete-gardening",
   "metadata": {},
   "outputs": [
    {
     "data": {
      "application/vnd.jupyter.widget-view+json": {
       "model_id": "",
       "version_major": 2,
       "version_minor": 0
      },
      "text/plain": [
       "Figure(axes=[Axis(scale=LinearScale()), Axis(orientation='vertical', scale=LinearScale())], fig_margin={'top':…"
      ]
     },
     "metadata": {},
     "output_type": "display_data"
    }
   ],
   "source": [
    "x_sc = bqplot.LinearScale()\n",
    "y_sc = bqplot.LinearScale()\n",
    "x_ax = bqplot.Axis(scale = x_sc)\n",
    "y_ax = bqplot.Axis(scale = y_sc, orientation = 'vertical')\n",
    "lines = bqplot.Lines(x = x, y = y, scales = {'x': x_sc, 'y': y_sc})\n",
    "fig = bqplot.Figure(marks = [lines], axes = [x_ax, y_ax])\n",
    "display(fig)"
   ]
  },
  {
   "cell_type": "code",
   "execution_count": 48,
   "id": "mighty-floor",
   "metadata": {},
   "outputs": [],
   "source": [
    "fis = bqplot.interacts.FastIntervalSelector(scale = x_sc, marks = [lines])\n",
    "fig.interaction = fis"
   ]
  },
  {
   "cell_type": "code",
   "execution_count": 50,
   "id": "raising-place",
   "metadata": {},
   "outputs": [
    {
     "data": {
      "text/plain": [
       "array([0.71975705, 7.53541569])"
      ]
     },
     "execution_count": 50,
     "metadata": {},
     "output_type": "execute_result"
    }
   ],
   "source": [
    "fis.selected"
   ]
  },
  {
   "cell_type": "code",
   "execution_count": 55,
   "id": "secondary-bunch",
   "metadata": {},
   "outputs": [],
   "source": [
    "fis.color = '#0000ff'"
   ]
  },
  {
   "cell_type": "code",
   "execution_count": 56,
   "id": "boolean-asian",
   "metadata": {},
   "outputs": [
    {
     "data": {
      "text/plain": [
       "array([4.89508242, 7.12045372])"
      ]
     },
     "execution_count": 56,
     "metadata": {},
     "output_type": "execute_result"
    }
   ],
   "source": [
    "fis.selected"
   ]
  },
  {
   "cell_type": "code",
   "execution_count": 61,
   "id": "sudden-symphony",
   "metadata": {},
   "outputs": [],
   "source": [
    "import ipywidgets\n",
    "import traitlets\n"
   ]
  },
  {
   "cell_type": "code",
   "execution_count": 68,
   "id": "experienced-binding",
   "metadata": {},
   "outputs": [],
   "source": [
    "button = ipywidgets.Button(description = \"Regenerate\")"
   ]
  },
  {
   "cell_type": "code",
   "execution_count": 62,
   "id": "mighty-sydney",
   "metadata": {},
   "outputs": [],
   "source": [
    "label = ipywidgets.Label()"
   ]
  },
  {
   "cell_type": "code",
   "execution_count": 65,
   "id": "quiet-federal",
   "metadata": {},
   "outputs": [
    {
     "data": {
      "text/plain": [
       "<traitlets.traitlets.link at 0x7f03e31aba30>"
      ]
     },
     "execution_count": 65,
     "metadata": {},
     "output_type": "execute_result"
    }
   ],
   "source": [
    "def convert_selected(value):\n",
    "    return \"%s - %s\" % (value[0], value[1])\n",
    "\n",
    "traitlets.link((fis, 'selected'), (label, 'value'), (convert_selected, None))"
   ]
  },
  {
   "cell_type": "code",
   "execution_count": 69,
   "id": "color-mason",
   "metadata": {},
   "outputs": [
    {
     "data": {
      "application/vnd.jupyter.widget-view+json": {
       "model_id": "18733ccfe2924cd88aa60146816b0a1c",
       "version_major": 2,
       "version_minor": 0
      },
      "text/plain": [
       "VBox(children=(Label(value='2.768662761212136 - 6.353475758098937'), Figure(axes=[Axis(scale=LinearScale(), si…"
      ]
     },
     "metadata": {},
     "output_type": "display_data"
    }
   ],
   "source": [
    "ipywidgets.VBox([label, fig, button])"
   ]
  },
  {
   "cell_type": "code",
   "execution_count": 70,
   "id": "nutritional-writer",
   "metadata": {},
   "outputs": [],
   "source": [
    "def regenerate(event):\n",
    "    y = np.sin(x) * np.cos(x) * (0.5 + np.random.random(512))\n",
    "    lines.y = y\n",
    "\n",
    "button.on_click(regenerate)"
   ]
  },
  {
   "cell_type": "code",
   "execution_count": 71,
   "id": "extensive-means",
   "metadata": {},
   "outputs": [],
   "source": [
    "import pandas as pd"
   ]
  },
  {
   "cell_type": "code",
   "execution_count": 72,
   "id": "according-bench",
   "metadata": {},
   "outputs": [],
   "source": [
    "df = pd.read_csv(\"building_inventory.csv\", \n",
    "                na_values = {'Year Acquired': 0,\n",
    "                             'Year Constructed': 0,\n",
    "                             'Square Footage': 0})"
   ]
  },
  {
   "cell_type": "code",
   "execution_count": 82,
   "id": "bored-wednesday",
   "metadata": {},
   "outputs": [],
   "source": [
    "gb = df.groupby([\"Year Acquired\", \"Agency Name\"])[\"Square Footage\"].sum()"
   ]
  },
  {
   "cell_type": "code",
   "execution_count": 83,
   "id": "fatal-complex",
   "metadata": {},
   "outputs": [
    {
     "data": {
      "text/plain": [
       "Year Acquired  Agency Name                     \n",
       "1753.0         Historic Preservation Agency          1200.0\n",
       "1802.0         Historic Preservation Agency          4440.0\n",
       "1810.0         Historic Preservation Agency          4033.0\n",
       "1832.0         Southern Illinois University        120000.0\n",
       "1837.0         Historic Preservation Agency         10302.0\n",
       "                                                     ...   \n",
       "2016.0         Department of Transportation         20371.0\n",
       "               Illinois Community College Board     99068.0\n",
       "2017.0         Department of Transportation          6720.0\n",
       "2018.0         Department of Transportation         17160.0\n",
       "2019.0         Department of Transportation          1520.0\n",
       "Name: Square Footage, Length: 1171, dtype: float64"
      ]
     },
     "execution_count": 83,
     "metadata": {},
     "output_type": "execute_result"
    }
   ],
   "source": [
    "gb"
   ]
  },
  {
   "cell_type": "code",
   "execution_count": 86,
   "id": "worldwide-bicycle",
   "metadata": {},
   "outputs": [
    {
     "data": {
      "text/plain": [
       "Year Acquired\n",
       "1894.0     85000.0\n",
       "1896.0     14000.0\n",
       "1901.0     86200.0\n",
       "1903.0     10288.0\n",
       "1905.0     27830.0\n",
       "            ...   \n",
       "2001.0     49535.0\n",
       "2002.0     94395.0\n",
       "2003.0    157856.0\n",
       "2005.0      5400.0\n",
       "2006.0     14000.0\n",
       "Name: Square Footage, Length: 67, dtype: float64"
      ]
     },
     "execution_count": 86,
     "metadata": {},
     "output_type": "execute_result"
    }
   ],
   "source": [
    "gb.loc[:,\"Department of Agriculture\"]"
   ]
  },
  {
   "cell_type": "code",
   "execution_count": 87,
   "id": "legitimate-insurance",
   "metadata": {},
   "outputs": [
    {
     "data": {
      "application/vnd.jupyter.widget-view+json": {
       "model_id": "9c89991b38e046c1b28e764b84d33377",
       "version_major": 2,
       "version_minor": 0
      },
      "text/plain": [
       "Figure(axes=[Axis(scale=LinearScale()), Axis(orientation='vertical', scale=LinearScale())], fig_margin={'top':…"
      ]
     },
     "metadata": {},
     "output_type": "display_data"
    }
   ],
   "source": [
    "x = gb.loc[:, \"Department of Agriculture\"].index\n",
    "y = gb.loc[:, \"Department of Agriculture\"].values\n",
    "x_sc = bqplot.LinearScale()\n",
    "y_sc = bqplot.LinearScale()\n",
    "x_ax = bqplot.Axis(scale = x_sc)\n",
    "y_ax = bqplot.Axis(scale = y_sc, orientation = 'vertical')\n",
    "lines = bqplot.Lines(x = x, y = y, scales = {'x': x_sc, 'y': y_sc})\n",
    "fig = bqplot.Figure(marks = [lines], axes = [x_ax, y_ax])\n",
    "display(fig)"
   ]
  },
  {
   "cell_type": "code",
   "execution_count": 89,
   "id": "collectible-retreat",
   "metadata": {},
   "outputs": [],
   "source": [
    "x = gb[:, \"Department of Natural Resources\"].index\n",
    "y = gb[:, \"Department of Natural Resources\"].values\n",
    "lines.x = x\n",
    "lines.y = y"
   ]
  },
  {
   "cell_type": "code",
   "execution_count": 92,
   "id": "large-problem",
   "metadata": {},
   "outputs": [],
   "source": [
    "select = ipywidgets.Select(options = df[\"Agency Name\"].unique())"
   ]
  },
  {
   "cell_type": "code",
   "execution_count": 93,
   "id": "postal-barrier",
   "metadata": {},
   "outputs": [
    {
     "data": {
      "application/vnd.jupyter.widget-view+json": {
       "model_id": "140a77a5cba0413d90b3d8cab211bcc2",
       "version_major": 2,
       "version_minor": 0
      },
      "text/plain": [
       "Select(options=('Department of Natural Resources', 'Department of Corrections', 'Department of Human Services'…"
      ]
     },
     "metadata": {},
     "output_type": "display_data"
    }
   ],
   "source": [
    "select"
   ]
  },
  {
   "cell_type": "code",
   "execution_count": 94,
   "id": "million-improvement",
   "metadata": {},
   "outputs": [
    {
     "data": {
      "text/plain": [
       "'Department of Natural Resources'"
      ]
     },
     "execution_count": 94,
     "metadata": {},
     "output_type": "execute_result"
    }
   ],
   "source": [
    "select.value"
   ]
  },
  {
   "cell_type": "code",
   "execution_count": 96,
   "id": "under-oliver",
   "metadata": {},
   "outputs": [],
   "source": [
    "def change_y(event):\n",
    "    new_agency = event['new']\n",
    "    x = gb[:, new_agency].index\n",
    "    y = gb[:, new_agency].values\n",
    "    lines.x = x\n",
    "    lines.y = y\n",
    "\n",
    "select.observe(change_y, [\"value\"])"
   ]
  },
  {
   "cell_type": "code",
   "execution_count": 97,
   "id": "retired-compilation",
   "metadata": {},
   "outputs": [],
   "source": [
    "fis = bqplot.interacts.FastIntervalSelector(scale = x_sc, marks = [lines])\n",
    "fig.interaction = fis"
   ]
  },
  {
   "cell_type": "code",
   "execution_count": 98,
   "id": "explicit-colors",
   "metadata": {},
   "outputs": [],
   "source": [
    "fis.color = '#0000ff'"
   ]
  },
  {
   "cell_type": "code",
   "execution_count": 99,
   "id": "outdoor-graph",
   "metadata": {},
   "outputs": [],
   "source": [
    "label = ipywidgets.Label()"
   ]
  },
  {
   "cell_type": "code",
   "execution_count": 113,
   "id": "synthetic-complaint",
   "metadata": {},
   "outputs": [],
   "source": [
    "def selection_changed(event):\n",
    "    if event['new'] is None: return\n",
    "    agency = select.value\n",
    "    start, stop = event['new']\n",
    "    total = gb.loc[start:stop, agency].sum()\n",
    "    label.value = \"%s square feet\" % (total)"
   ]
  },
  {
   "cell_type": "code",
   "execution_count": 114,
   "id": "suitable-italy",
   "metadata": {},
   "outputs": [],
   "source": [
    "fis.unobserve_all()"
   ]
  },
  {
   "cell_type": "code",
   "execution_count": 115,
   "id": "demanding-alberta",
   "metadata": {},
   "outputs": [],
   "source": [
    "fis.observe(selection_changed, [\"selected\"])"
   ]
  },
  {
   "cell_type": "code",
   "execution_count": 116,
   "id": "incoming-honor",
   "metadata": {},
   "outputs": [
    {
     "data": {
      "application/vnd.jupyter.widget-view+json": {
       "model_id": "",
       "version_major": 2,
       "version_minor": 0
      },
      "text/plain": [
       "Label(value='')"
      ]
     },
     "metadata": {},
     "output_type": "display_data"
    }
   ],
   "source": [
    "label"
   ]
  },
  {
   "cell_type": "code",
   "execution_count": null,
   "id": "planned-charleston",
   "metadata": {},
   "outputs": [],
   "source": []
  }
 ],
 "metadata": {
  "kernelspec": {
   "display_name": "Python 3",
   "language": "python",
   "name": "python3"
  },
  "language_info": {
   "codemirror_mode": {
    "name": "ipython",
    "version": 3
   },
   "file_extension": ".py",
   "mimetype": "text/x-python",
   "name": "python",
   "nbconvert_exporter": "python",
   "pygments_lexer": "ipython3",
   "version": "3.8.6"
  }
 },
 "nbformat": 4,
 "nbformat_minor": 5
}
