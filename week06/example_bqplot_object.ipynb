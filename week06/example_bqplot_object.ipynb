{
 "cells": [
  {
   "cell_type": "markdown",
   "metadata": {},
   "source": [
    "# UNGRADED Workbook for In-Class\n",
    "\n",
    "This notebook is here for you to \"code along\" during class. \n",
    "\n",
    "It will not be graded, so feel free to play around!"
   ]
  },
  {
   "cell_type": "code",
   "execution_count": 1,
   "metadata": {},
   "outputs": [],
   "source": [
    "import numpy as np\n",
    "import bqplot"
   ]
  },
  {
   "cell_type": "code",
   "execution_count": 3,
   "metadata": {},
   "outputs": [
    {
     "name": "stderr",
     "output_type": "stream",
     "text": [
      "Matplotlib created a temporary config/cache directory at /tmp/matplotlib-wde3bqt4 because the default path (/tmp/cache/matplotlib) is not a writable directory; it is highly recommended to set the MPLCONFIGDIR environment variable to a writable directory, in particular to speed up the import of Matplotlib and to better support multiprocessing.\n"
     ]
    }
   ],
   "source": [
    "import matplotlib.pyplot as plt"
   ]
  },
  {
   "cell_type": "code",
   "execution_count": 23,
   "metadata": {},
   "outputs": [],
   "source": [
    "x = np.random.random(size=32**3)\n",
    "y = np.random.random(size=32**3)"
   ]
  },
  {
   "cell_type": "code",
   "execution_count": 24,
   "metadata": {},
   "outputs": [
    {
     "data": {
      "text/plain": [
       "<matplotlib.collections.PathCollection at 0x7f4ad91aa3d0>"
      ]
     },
     "execution_count": 24,
     "metadata": {},
     "output_type": "execute_result"
    },
    {
     "data": {
      "image/png": "[encoded data removed]",
      "text/plain": [
       "<Figure size 432x288 with 1 Axes>"
      ]
     },
     "metadata": {
      "needs_background": "light"
     },
     "output_type": "display_data"
    }
   ],
   "source": [
    "plt.scatter(x, y)"
   ]
  },
  {
   "cell_type": "code",
   "execution_count": 28,
   "metadata": {},
   "outputs": [
    {
     "data": {
      "application/vnd.jupyter.widget-view+json": {
       "model_id": "eff564736e024ba2969d1054a0fcc66c",
       "version_major": 2,
       "version_minor": 0
      },
      "text/plain": [
       "Figure(axes=[Axis(scale=LinearScale()), Axis(orientation='vertical', scale=LinearScale())], fig_margin={'top':…"
      ]
     },
     "metadata": {},
     "output_type": "display_data"
    }
   ],
   "source": [
    "x_sc = bqplot.LinearScale()\n",
    "y_sc = bqplot.LinearScale()\n",
    "\n",
    "x_ax = bqplot.Axis(scale = x_sc)\n",
    "y_ax = bqplot.Axis(scale = y_sc, orientation = 'vertical')\n",
    "\n",
    "scatter = bqplot.Scatter(x=x, y=y, scales = {'x': x_sc, 'y': y_sc}, alpha = 0.1)\n",
    "\n",
    "figure = bqplot.Figure(marks = [], axes = [x_ax, y_ax])\n",
    "display(figure)"
   ]
  },
  {
   "cell_type": "code",
   "execution_count": 29,
   "metadata": {},
   "outputs": [],
   "source": [
    "import traitlets\n",
    "import ipywidgets"
   ]
  },
  {
   "cell_type": "code",
   "execution_count": null,
   "metadata": {},
   "outputs": [],
   "source": []
  },
  {
   "cell_type": "code",
   "execution_count": 30,
   "metadata": {},
   "outputs": [],
   "source": [
    "class MyDashboard(traitlets.HasTraits):\n",
    "    x_axis = traitlets.Unicode()\n",
    "    y_axis = traitlets.Unicode()"
   ]
  },
  {
   "cell_type": "code",
   "execution_count": 31,
   "metadata": {},
   "outputs": [],
   "source": [
    "db1 = MyDashboard(x_axis = \"Time\", y_axis = \"Sunlight\")"
   ]
  },
  {
   "cell_type": "code",
   "execution_count": 32,
   "metadata": {},
   "outputs": [
    {
     "data": {
      "text/plain": [
       "'Time'"
      ]
     },
     "execution_count": 32,
     "metadata": {},
     "output_type": "execute_result"
    }
   ],
   "source": [
    "db1.x_axis"
   ]
  },
  {
   "cell_type": "code",
   "execution_count": 106,
   "metadata": {},
   "outputs": [],
   "source": [
    "class MultiViewDashboard(traitlets.HasTraits):\n",
    "    left_view = traitlets.Instance(klass=bqplot.Figure)\n",
    "    right_view = traitlets.Instance(klass=bqplot.Figure)\n",
    "    view = traitlets.Instance(klass=ipywidgets.Box)\n",
    "    dataset = traitlets.Instance(klass=np.ndarray)\n",
    "    left_y_axis = traitlets.CInt()\n",
    "    right_y_axis = traitlets.CInt()\n",
    "    ui_bar = traitlets.Instance(klass=ipywidgets.Box)\n",
    "    \n",
    "    @traitlets.observe(\"left_y_axis\")\n",
    "    def _update_left_y_axis(self, change):\n",
    "        self.left_view.marks[0].y = self.dataset[:, change['new']]\n",
    "\n",
    "    @traitlets.default(\"dataset\")\n",
    "    def _default_dataset(self):\n",
    "        x = np.mgrid[0.0:12.0:256j]\n",
    "        y1 = np.sin(x**2)\n",
    "        y2 = np.cos(x*1.5)\n",
    "        y3 = np.tan(x/2)\n",
    "        return np.stack([x, y1, y2, y3], axis=-1)\n",
    "\n",
    "    @traitlets.default(\"ui_bar\")\n",
    "    def _default_ui_bar(self):\n",
    "        color = ipywidgets.ColorPicker()\n",
    "        x_range = ipywidgets.FloatRangeSlider(min = 0, max = 12.0)\n",
    "        x_range.value = (0, 12)\n",
    "        def change_x_range(change):\n",
    "            mi, ma = change['new']\n",
    "            self.left_view.marks[0].scales['x'].min = mi\n",
    "            self.left_view.marks[0].scales['x'].max = ma\n",
    "        x_range.observe(change_x_range, 'value')\n",
    "        def change_line_color(change):\n",
    "            self.left_view.marks[0].colors = [change['new']]\n",
    "        color.observe(change_line_color, ['value'])\n",
    "        \n",
    "        left_axis_select = ipywidgets.Dropdown(\n",
    "            options = [(\"sin(x**2)\", 1), (\"cos(3x/2)\", 2), (\"tan(x/2)\", 3)],\n",
    "            value = 1\n",
    "        )\n",
    "        traitlets.link( (left_axis_select, \"value\"), (self, \"left_y_axis\") )\n",
    "        \n",
    "        return ipywidgets.HBox([color, x_range, left_axis_select])\n",
    "    \n",
    "    @traitlets.default(\"left_view\")\n",
    "    def _default_left_view(self):\n",
    "        x_sc = bqplot.LinearScale()\n",
    "        y_sc = bqplot.LinearScale()\n",
    "        x_ax = bqplot.Axis(scale = x_sc)\n",
    "        y_ax = bqplot.Axis(scale = y_sc, orientation='vertical')\n",
    "        line = bqplot.Lines(x = self.dataset[:,0], y = self.dataset[:,self.left_y_axis],\n",
    "                            scales = {'x': x_sc, 'y': y_sc})\n",
    "        return bqplot.Figure(marks = [line], axes=[x_ax, y_ax])\n",
    "    \n",
    "    @traitlets.default(\"right_view\")\n",
    "    def _default_right_view(self):\n",
    "        return bqplot.Figure()\n",
    "    \n",
    "    @traitlets.default(\"view\")\n",
    "    def _default_view(self):\n",
    "        return ipywidgets.VBox([\n",
    "                    self.ui_bar,\n",
    "                    ipywidgets.HBox([self.left_view, self.right_view])\n",
    "        ])"
   ]
  },
  {
   "cell_type": "code",
   "execution_count": 107,
   "metadata": {},
   "outputs": [],
   "source": [
    "mdb = MultiViewDashboard()"
   ]
  },
  {
   "cell_type": "code",
   "execution_count": 108,
   "metadata": {},
   "outputs": [
    {
     "data": {
      "application/vnd.jupyter.widget-view+json": {
       "model_id": "f14768882228410f97bb700dadec335e",
       "version_major": 2,
       "version_minor": 0
      },
      "text/plain": [
       "VBox(children=(HBox(children=(ColorPicker(value='black'), FloatRangeSlider(value=(0.0, 12.0), max=12.0), Dropd…"
      ]
     },
     "metadata": {},
     "output_type": "display_data"
    }
   ],
   "source": [
    "mdb.view"
   ]
  },
  {
   "cell_type": "code",
   "execution_count": 113,
   "metadata": {},
   "outputs": [],
   "source": [
    "mdb.left_y_axis = 3"
   ]
  },
  {
   "cell_type": "code",
   "execution_count": 87,
   "metadata": {},
   "outputs": [],
   "source": [
    "mdb.left_view.marks[0].colors = [\"#000000\"]"
   ]
  },
  {
   "cell_type": "code",
   "execution_count": 91,
   "metadata": {},
   "outputs": [
    {
     "data": {
      "application/vnd.jupyter.widget-view+json": {
       "model_id": "2a9b965f3d2c49778a632a3479a4ab18",
       "version_major": 2,
       "version_minor": 0
      },
      "text/plain": [
       "VBox(children=(HBox(children=(ColorPicker(value='#a60c0c'), FloatRangeSlider(value=(3.0, 9.0), max=12.0))), HB…"
      ]
     },
     "metadata": {},
     "output_type": "display_data"
    }
   ],
   "source": [
    "mdb.view"
   ]
  },
  {
   "cell_type": "code",
   "execution_count": null,
   "metadata": {},
   "outputs": [],
   "source": []
  }
 ],
 "metadata": {
  "kernelspec": {
   "display_name": "Python 3",
   "language": "python",
   "name": "python3"
  },
  "language_info": {
   "codemirror_mode": {
    "name": "ipython",
    "version": 3
   },
   "file_extension": ".py",
   "mimetype": "text/x-python",
   "name": "python",
   "nbconvert_exporter": "python",
   "pygments_lexer": "ipython3",
   "version": "3.8.6"
  }
 },
 "nbformat": 4,
 "nbformat_minor": 4
}
